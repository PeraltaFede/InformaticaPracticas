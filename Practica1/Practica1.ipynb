{
  "cells": [
    {
      "cell_type": "markdown",
      "metadata": {
        "id": "vDhHjkbxDj3G"
      },
      "source": [
        "Esta es una práctica diseñada para Google Colab, para utilizarla debes ingresar a Colab usando el siguiente icono:\n",
        "\n",
        "[![Abrir en Colab](https://colab.research.google.com/assets/colab-badge.svg)](https://colab.research.google.com/github/PeraltaFede/InformaticaPracticas/blob/main/Practica1/Practica1.ipynb)\n",
        "\n",
        "# Grados en \n",
        "## - Informática\n",
        "## - Creación de Videojuegos y Animación Digital\n",
        "\n",
        "Objeto de la práctica\n",
        "=====================\n",
        "\n",
        "En esta práctica se hará una introducción al uso de MultiSim. Se busca\n",
        "que el alumno utilice herramientas dedicadas a la creación de Circuitos\n",
        "Lógicos. Con ello, el alumno podrá utilizar las compuertas, cables de\n",
        "conexión y podrá poner a prueba los circuitos digitales para verificar\n",
        "los contenidos aprendidos en la teoría.\n",
        "\n",
        "Contenidos\n",
        "----------\n",
        "\n",
        "-   Multisim y otros programas de simulación de circuitos.\n",
        "\n",
        "-   Creación de Circuito Lógicos.\n",
        "\n",
        "-   Simplificación de circuitos lógicos.\n",
        "\n",
        "Fundamento teórico\n",
        "==================\n",
        "\n",
        "Los alumnos deberán repasar los conceptos siguientes:\n",
        "\n",
        "-   Compuertas Lógicas: AND, OR y NOT.\n",
        "\n",
        "-   Algebra de Boole: Suma, Multiplicación y Negación.\n",
        "\n",
        "-   Mapa de Karnaugh.\n",
        "\n",
        "Descripción del material\n",
        "========================\n",
        "\n",
        "En ésta práctica (y las siguientes) se utilizará un ordenador, para\n",
        "guardar los ejercicios hechos así como la memoria a entregar,\n",
        "necesitarán un pen drive. Los alumnos pueden traer sus propios\n",
        "portátitles si así lo desean.\n",
        "\n",
        "# Realización de la práctica\n"
      ],
      "id": "vDhHjkbxDj3G"
    },
    {
      "cell_type": "code",
      "source": [
        "#@title  { display-mode: \"form\" }\n",
        "#@markdown Importante! Ejecute esta celda para comenzar\n",
        "!wget -q https://raw.githubusercontent.com/PeraltaFede/InformaticaPracticas/main/PyProblem.py\n",
        "#@markdown Opcional: Agregue su nombre\n",
        "nombre = \"\" #@param {type:\"string\"}\n",
        "from PyProblem import Problem\n",
        "problem = Problem(nombre)\n"
      ],
      "metadata": {
        "id": "0yh5fxg-V9ul"
      },
      "id": "0yh5fxg-V9ul",
      "execution_count": 1,
      "outputs": []
    },
    {
      "cell_type": "markdown",
      "id": "87d811c5",
      "metadata": {
        "id": "87d811c5"
      },
      "source": [
        "\n",
        "# TEMA 1. Diseño de Circuitos Lógicos (4/10)\n",
        "\n",
        "### Creación de circuitos (2/10)\n",
        "\n",
        "Utilizando las compuertas disponibles en el programa, cree el circuito\n",
        "lógico mostrado en la Figura 1.\n",
        "\n",
        "> ![Ejercicio 1](https://github.com/PeraltaFede/InformaticaPracticas/blob/main/Practica1/Ejercicio1.png?raw=true)\n",
        "> Figura 1. Circuito Lógico para el Ejercicio 1.\n",
        "\n",
        "Para ello, habrá que seguir los siguientes pasos, completando las\n",
        "siguientes tablas.\n"
      ]
    },
    {
      "cell_type": "markdown",
      "source": [
        "## 1.1. Contabilizar el número de entradas y salidas:"
      ],
      "metadata": {
        "id": "888yrWMypEPx"
      },
      "id": "888yrWMypEPx"
    },
    {
      "cell_type": "code",
      "execution_count": 9,
      "id": "8dd3eeaf",
      "metadata": {
        "colab": {
          "base_uri": "https://localhost:8080/"
        },
        "id": "8dd3eeaf",
        "outputId": "be91aa2e-9fcd-409b-a5cb-4ace09a3c949"
      },
      "outputs": [
        {
          "output_type": "stream",
          "name": "stdout",
          "text": [
            "CUIDADO: Las entradas y salidas deben ser enteros naturales\n"
          ]
        }
      ],
      "source": [
        "#@title  { display-mode: \"form\" }\n",
        "id_problem = 1\n",
        "#@markdown Las **entradas** se representan con Entradas Digitales Constantes. Las **salidas** con Sondas Digitales.\n",
        "numero_de_entradas = None #@param {type:\"integer\"}\n",
        "numero_de_salidas = None #@param {type:\"integer\"}\n",
        "problem.check(id_problem, numero_de_entradas, numero_de_salidas)"
      ]
    },
    {
      "cell_type": "markdown",
      "source": [
        "## 1.2. Contabilizar la cantidad de compuertas lógicas:\n"
      ],
      "metadata": {
        "id": "ssTVnWBFQ0tC"
      },
      "id": "ssTVnWBFQ0tC"
    },
    {
      "cell_type": "markdown",
      "source": [
        "\n",
        "En esta práctica estaremos utilizando 3 tipos de compuertas: *AND*, *OR* y *NOT*, sus símbolos y fórmulas pueden verse en la Figura de abajo.\n",
        "> ![Compuertas](https://github.com/PeraltaFede/InformaticaPracticas/blob/main/Practica1/compuertas.png?raw=true)\n",
        "> Figura 2. Compuertas Lógicas Básicas\n",
        "\n",
        "Como se ve, normalmente las compuertas *AND* y *OR* suelen tener 2 entradas, pero es posible que tengan más entradas. La compuerta *NOT* siempre tiene una entrada."
      ],
      "metadata": {
        "id": "cq-OTrobq6Bv"
      },
      "id": "cq-OTrobq6Bv"
    },
    {
      "cell_type": "code",
      "source": [
        "#@title  { display-mode: \"form\" }\n",
        "#@markdown     Complete los datos de acuerdo a la cantidad de compuertas lógicas que observa en la Figura 1.\n",
        "numero_de_compuertas_AND_con_2_entradas = None #@param {type:\"integer\"}\n",
        "numero_de_compuertas_AND_con_3_entradas = None #@param {type:\"integer\"}\n",
        "numero_de_compuertas_OR_con_2_entradas = None #@param {type:\"integer\"}\n",
        "numero_de_compuertas_OR_con_3_entradas = None #@param {type:\"integer\"}\n",
        "numero_de_compuertas_NOT_con_1_entrada = None #@param {type:\"integer\"}\n",
        "\n",
        "id_problem = 2\n",
        "problem.check(id_problem, numero_de_compuertas_AND_con_2_entradas,\n",
        "numero_de_compuertas_AND_con_3_entradas,\n",
        "numero_de_compuertas_OR_con_2_entradas ,\n",
        "numero_de_compuertas_OR_con_3_entradas ,\n",
        "numero_de_compuertas_NOT_con_1_entrada )"
      ],
      "metadata": {
        "id": "YUaq8dEcQqTF",
        "colab": {
          "base_uri": "https://localhost:8080/"
        },
        "outputId": "812af99d-f778-430e-fe19-4832d9a36459"
      },
      "id": "YUaq8dEcQqTF",
      "execution_count": 10,
      "outputs": [
        {
          "output_type": "stream",
          "name": "stdout",
          "text": [
            "CUIDADO: Las entradas y salidas deben ser enteros naturales\n"
          ]
        }
      ]
    },
    {
      "cell_type": "markdown",
      "source": [
        "\n",
        "## 1.3. Insertar los objetos dentro del espacio de trabajo:"
      ],
      "metadata": {
        "id": "FItPxsnqpWIq"
      },
      "id": "FItPxsnqpWIq"
    },
    {
      "cell_type": "markdown",
      "source": [
        "En el espacio de trabajo que es un Diseño en Blanco, debe agregar los componentes uno por uno. Para ello, observe las tablas que ha completado anteriormente y seleccione los componentes necesarios agregándolos al espacio de trabajo."
      ],
      "metadata": {
        "id": "o9wgWLAzrW1_"
      },
      "id": "o9wgWLAzrW1_"
    },
    {
      "cell_type": "markdown",
      "source": [
        "## 1.4. Conectar los cables de izquierda a derecha:"
      ],
      "metadata": {
        "id": "FtNEJcbnqIwq"
      },
      "id": "FtNEJcbnqIwq"
    },
    {
      "cell_type": "markdown",
      "source": [
        "Es importante que conecte los cables desde las **entradas** hacia las **salidas** para no perder de vista el camino que deben recorrer las señales. Al finalizar el conexionado, verifique que el circuito coincide con el de la Figura 1."
      ],
      "metadata": {
        "id": "g_OBstgNra13"
      },
      "id": "g_OBstgNra13"
    },
    {
      "cell_type": "markdown",
      "source": [
        "## 1.5 Tabla de Verdad (2/10)"
      ],
      "metadata": {
        "id": "OyCm1AMlqp13"
      },
      "id": "OyCm1AMlqp13"
    },
    {
      "cell_type": "markdown",
      "source": [
        "\n",
        "En este paso, simularemos el circuito diseñado dando click en el botón\n",
        "de inicio. A continuación podrá dar click en cada Entrada verificando\n",
        "que su estado pasa de 0 a 1 y luego de 1 a 0. En este paso, apunte los\n",
        "valores de salida S en una tabla de verdad que se muestra en el Cuadro de abajo.\n"
      ],
      "metadata": {
        "id": "3SONKTZGroU-"
      },
      "id": "3SONKTZGroU-"
    },
    {
      "cell_type": "code",
      "source": [
        "#@title  { display-mode: \"form\" }\n",
        "#@markdown Ejecuta esta celda y completa la Tabla de Verdad que se genera\n",
        "\n",
        "\n",
        "from google.colab import widgets\n",
        "import ipywidgets\n",
        "from IPython.display import display, clear_output\n",
        "\n",
        "output = ipywidgets.widgets.Output()\n",
        "items = [ipywidgets.Label(inp) for inp in ['D', 'C', 'B', 'A', 'S']]\n",
        "numbers = []\n",
        "for i in range(16):\n",
        "  numbers.extend([ipywidgets.Label(k) for k in format(i, '#06b')[2:]])\n",
        "\n",
        "results = []\n",
        "for i in range(16):\n",
        "  btn = ipywidgets.BoundedIntText(\n",
        "    value=0,\n",
        "    min=0,\n",
        "    max=1,\n",
        "    step=1,\n",
        "    disabled=False,\n",
        "    layout = ipywidgets.Layout(width='40px')\n",
        "  )\n",
        "  results.append(btn)\n",
        "\n",
        "grid = widgets.Grid(17, 5, header_row=True, header_column=False)\n",
        "idx = idb = 0\n",
        "for (row, col) in grid:\n",
        "  if row == 0:\n",
        "    index = row*5+col\n",
        "    display(items[index])\n",
        "  else:    \n",
        "    if col < 4:\n",
        "      display(numbers[idx])\n",
        "      idx += 1\n",
        "    else:\n",
        "      display(results[idb])\n",
        "      idb += 1\n",
        "\n",
        "chkbtn = ipywidgets.Button(\n",
        "    description='Verificar',\n",
        "    disabled=False,\n",
        "    button_style='', # , 'info', 'warning', 'danger' or ''\n",
        "    tooltip='Verificar',\n",
        "    icon='check')\n",
        "\n",
        "def verificar(cb):\n",
        "  rsl_lst = [it.value for it in results]\n",
        "  id_problem = 3\n",
        "  out = problem.check(id_problem, rsl_lst)\n",
        "  if out is not None:\n",
        "    display(out)\n",
        "\n",
        "\n",
        "chkbtn.on_click(verificar)\n",
        "display(chkbtn)"
      ],
      "metadata": {
        "id": "9aqkZATTrp-f"
      },
      "id": "9aqkZATTrp-f",
      "execution_count": null,
      "outputs": []
    },
    {
      "cell_type": "markdown",
      "source": [
        "\n",
        "\n",
        "\n",
        "\n",
        "Para completar la tabla se necesita escribir el estado, según se\n",
        "encienda o no la bombilla (la salida). Este estado es único para cada\n",
        "entrada por lo que para el estado 0000 (DCBA), la salida puede ser\n",
        "únicamente 0. Es MUY importante recordar el orden en que situamos\n",
        "nuestras entradas en el circuito y en la tabla de verdad. En este caso,\n",
        "se ha puesto las entradas apiladas en orden DESCENDENTE en el circuito\n",
        "(D está debajo de C, que está debajo de B, etc.), mientras que en la\n",
        "tabla de verdad, se observa que la entrada esta dispuesta también en\n",
        "orden descendente D \\> C \\> B \\> A."
      ],
      "metadata": {
        "id": "GDhZkDYhrTQy"
      },
      "id": "GDhZkDYhrTQy"
    },
    {
      "cell_type": "markdown",
      "id": "9719321b",
      "metadata": {
        "id": "9719321b"
      },
      "source": [
        "\n",
        "# TEMA 2. Simplificación de Circuitos (3/10)\n",
        "\n",
        "## Hacer y simplificar el Mapa de Karnaugh (2/10)\n",
        "\n",
        "El mapa de verdad que ha hecho en el Tema 1. le será útil para este\n",
        "tema, por lo que necesitamos que esté completo. Para crear un Mapa de\n",
        "Karnaugh recuerde que debe separar las entradas en pares, DC y BA. Luego\n",
        "debe crear un cuadro en donde ambos pares puedan ocupar todos los\n",
        "estados posibles (4 estados), por lo que tendría un mapa estados de 4x4.\n",
        "Para asignar cada bit, recuerde que debe intercambiar la tercera y\n",
        "cuarta combinación de forma a obtener: 00 01 11 10. Así la combinación\n",
        "en el mapa tendría asignados los elementos de acuerdo al Código Gray. En\n",
        "el Cuadro de abajo se encuentra una plantilla para 4 bits del mapa de Karnaugh. Dentro de ella deberá escribir una por una las salidas S obtenidas en el Cuadro\n",
        "del Tema 1."
      ]
    },
    {
      "cell_type": "code",
      "source": [
        "#@markdown Ejecuta esta celda y completa el Mapa de Karnaugh que se genera\n",
        "\n",
        "items = [ipywidgets.Label(inp) for inp in ['DC\\BA', '00', '01', '11', '10']]\n",
        "items.extend([ipywidgets.Label(inp) for inp in ['00', '01', '11', '10']])\n",
        "\n",
        "results2 = []\n",
        "for i in range(16):\n",
        "  btn = ipywidgets.BoundedIntText(\n",
        "    value=0,\n",
        "    min=0,\n",
        "    max=1,\n",
        "    step=1,\n",
        "    disabled=False,\n",
        "    layout = ipywidgets.Layout(width='40px')\n",
        "  )\n",
        "  results2.append(btn)\n",
        "\n",
        "grid = widgets.Grid(5, 5, header_row=True, header_column=True)\n",
        "idb = idx= 0\n",
        "for (row, col) in grid:\n",
        "  if col == 0 or row == 0:\n",
        "    display(items[idx])\n",
        "    idx += 1\n",
        "  else:    \n",
        "    display(results2[idb])\n",
        "    idb += 1\n",
        "\n",
        "chkbtn2 = ipywidgets.Button(\n",
        "    description='Verificar',\n",
        "    disabled=False,\n",
        "    button_style='', # , 'info', 'warning', 'danger' or ''\n",
        "    tooltip='Verificar',\n",
        "    icon='check')\n",
        "\n",
        "def verificar2(cb):\n",
        "  rsl_lst = [it.value for it in results2]\n",
        "  rsl_lst[6], rsl_lst[7], rsl_lst[10], rsl_lst[11], rsl_lst[14], rsl_lst[15] = rsl_lst[7], rsl_lst[6], rsl_lst[11], rsl_lst[10], rsl_lst[15], rsl_lst[14] \n",
        "  id_problem = 3\n",
        "  out = problem.check(id_problem, rsl_lst)\n",
        "  if out is not None:\n",
        "    display(out)\n",
        "\n",
        "\n",
        "chkbtn2.on_click(verificar2)\n",
        "display(chkbtn2)"
      ],
      "metadata": {
        "cellView": "form",
        "id": "rPVf7TC1_ZgW"
      },
      "id": "rPVf7TC1_ZgW",
      "execution_count": null,
      "outputs": []
    },
    {
      "cell_type": "markdown",
      "source": [
        "\n",
        "A continuación debe simplificar el Mapa de Karnaugh, en este caso utilice la simplificación de maxiterminos o **producto de sumas**. Para ello, seleccione las salidas de valor TRUE o 1, y agrupe las salidas en diferentes grupos que tengan número de elementos iguales a potencias de 2 (grupos de 2, 4, 8, etc.). Debe agrupar la mayor cantidad de salidas posibles, los elementos se pueden repetir, es decir que pueden estar en más de un grupo. Una vez realizado este proceso, debe escribir los **productos de sumas**. Cada suma tendrá en cuenta los bits que se mantienen constantes en un grupo. En el Cuadro de abajo debe escribir la función equivalente obtenida."
      ],
      "metadata": {
        "id": "0B3t-3s0_VnU"
      },
      "id": "0B3t-3s0_VnU"
    },
    {
      "cell_type": "code",
      "source": [
        "#@markdown Para escribir la función equivalente aquí, debe reemplazar:\n",
        "#@markdown - Las compuertas AND por + (Ej.: A AND B ➡️ A*B)\n",
        "#@markdown - Las compuertas OR por + (Ej.: A OR B ➡️ A+B)\n",
        "#@markdown - Las compuertas NOT por ! (Ej.: NOT B ➡️ !B)\n",
        "funcion_eq = \"\" #@param {type:\"string\"}\n",
        "\n",
        "id_problem = 4\n",
        "problem.check(id_problem, funcion_eq)\n"
      ],
      "metadata": {
        "cellView": "form",
        "id": "AYOzEK-LEU_u"
      },
      "id": "AYOzEK-LEU_u",
      "execution_count": null,
      "outputs": []
    },
    {
      "cell_type": "markdown",
      "source": [
        "\n",
        "\n",
        "### Crear circuito (1/10)\n",
        "\n",
        "En esta sección, debe utilizar el programa para realizar el circuito\n",
        "lógico según la función obtenida en el ejercicio anterior. Para ello,\n",
        "siga los pasos del primer ejercicio: Contabilize el número de entradas y\n",
        "salidas, la cantidad de compuertas lógicas, inserte los objetos, y\n",
        "realice las conexiones. Verifique que la salida de este circuito se\n",
        "comporta de la misma forma que la salida del ejercicio 4.1.1. Realice\n",
        "una captura de pantalla del circuito y agreguelo a la memoria de\n",
        "trabajo."
      ],
      "metadata": {
        "id": "1cTugL9iDhJg"
      },
      "id": "1cTugL9iDhJg"
    },
    {
      "cell_type": "markdown",
      "source": [
        "\n",
        "\n",
        "# TAREA. (3/10)\n",
        "\n",
        "Observe la Tabla de verdad en la Tabla de abajo.\n",
        "A continuación, grafique un Mapa de Karnaugh y simplifique la salida.\n",
        "Obtenga la función equivalente y realice un circuito lógico según la\n",
        "salida obtenida. Agregue el mapa (1/10), la función equivalente (1/10) y\n",
        "una captura de pantalla del circuito (1/10) en la memoria de trabajo.\n",
        "\n",
        "|  D  |  C  |  B  |  A  |  S  |\n",
        "|:---:|:---:|:---:|:---:|:---:|\n",
        "|  0  |  0  |  0  |  0  |  1  |\n",
        "|  0  |  0  |  0  |  1  |  1  |\n",
        "|  0  |  0  |  1  |  0  |  1  |\n",
        "|  0  |  0  |  1  |  1  |  1  |\n",
        "|  0  |  1  |  0  |  0  |  1  |\n",
        "|  0  |  1  |  0  |  1  |  1  |\n",
        "|  0  |  1  |  1  |  0  |  0  |\n",
        "|  0  |  1  |  1  |  1  |  0  |\n",
        "|  1  |  0  |  0  |  0  |  0  |\n",
        "|  1  |  0  |  0  |  1  |  1  |\n",
        "|  1  |  0  |  1  |  0  |  1  |\n",
        "|  1  |  0  |  1  |  1  |  0  |\n",
        "|  1  |  1  |  0  |  0  |  0  |\n",
        "|  1  |  1  |  0  |  1  |  1  |\n",
        "|  1  |  1  |  1  |  0  |  1  |\n",
        "|  1  |  1  |  1  |  1  |  0  |"
      ],
      "metadata": {
        "id": "gYalpzZgDmgW"
      },
      "id": "gYalpzZgDmgW"
    },
    {
      "cell_type": "markdown",
      "source": [
        "# **Memoria de trabajo**\n",
        "\n",
        "Rellene la plantilla de la memoria de trabajo de la Prática 1 explicando\n",
        "cada parte de la práctica. En cada sección debe agregar cada Tabla o\n",
        "Figura que ha creado, por ejemplo, para la Tarea en la Sección 4 debe\n",
        "agregar 1. El Mapa de Karnaugh de la Tarea. 2. La función Equilavente de\n",
        "la tarea. y 3. Una Captura de Pantalla del circuito lógico de la tarea."
      ],
      "metadata": {
        "id": "oj45lNVqVL5C"
      },
      "id": "oj45lNVqVL5C"
    }
  ],
  "metadata": {
    "kernelspec": {
      "display_name": "Python 3",
      "language": "python",
      "name": "python3"
    },
    "language_info": {
      "codemirror_mode": {
        "name": "ipython",
        "version": 3
      },
      "file_extension": ".py",
      "mimetype": "text/x-python",
      "name": "python",
      "nbconvert_exporter": "python",
      "pygments_lexer": "ipython3",
      "version": "3.8.5"
    },
    "vscode": {
      "interpreter": {
        "hash": "814e991ee928794a712baa9dc158fd3beadd9ae09a0cbcb986ad536a6c92bb5e"
      }
    },
    "colab": {
      "provenance": []
    }
  },
  "nbformat": 4,
  "nbformat_minor": 5
}
